{
  "nbformat": 4,
  "nbformat_minor": 0,
  "metadata": {
    "colab": {
      "name": "Original NN.ipynb",
      "provenance": [],
      "collapsed_sections": []
    },
    "kernelspec": {
      "name": "python3",
      "display_name": "Python 3"
    }
  },
  "cells": [
    {
      "cell_type": "code",
      "metadata": {
        "id": "VLjXp2FcYyP5"
      },
      "source": [
        "import numpy as np\n",
        "import matplotlib.pyplot as plt"
      ],
      "execution_count": null,
      "outputs": []
    },
    {
      "cell_type": "code",
      "metadata": {
        "id": "5c6M4RugidXf"
      },
      "source": [
        "def Relu(x):\n",
        "  x = np.maximum(np.zeros(np.shape(x)), x)\n",
        "  return x\n",
        "\n",
        "def Relu_Prime(x):\n",
        "  y = np.array([])\n",
        "  for j in range(np.shape(x)[0]):\n",
        "    z = np.array([])\n",
        "    for i in range(np.shape(x)[1]):\n",
        "      if x[j][i] > 0:\n",
        "        z = np.hstack((z, 1))\n",
        "      else:\n",
        "        z = np.hstack((z, 0))\n",
        "    y = np.concatenate((y, z), axis=0)\n",
        "  y = np.reshape(y, np.shape(x))\n",
        "  return y\n",
        "\n",
        "def Huber(d):\n",
        "  global e\n",
        "  e = np.absolute(e)\n",
        "  y = np.array([])\n",
        "\n",
        "  for i in range(np.size(e)):\n",
        "    if e[i] <= d:\n",
        "      z = 0.5 * e[i]**2\n",
        "    else:\n",
        "      z = d*(-0.5*d + e[i])\n",
        "\n",
        "    y = np.hstack((y, z))\n",
        "  return y\n",
        "\n",
        "def Huber_Prime(d):\n",
        "  global e, W, Z, A, n_l\n",
        "  e_abs = np.absolute(e)\n",
        "  D = []\n",
        "  mean = np.array([])\n",
        "  #print(np.shape(mean))\n",
        "  for j in range(np.size(e)):\n",
        "    dJdW = []\n",
        "    delta = []\n",
        "    for i in range(n_l):\n",
        "      pos = n_l-(i+1)\n",
        "\n",
        "      #calculate delta values\n",
        "      if i == 0:\n",
        "        delta.append(np.multiply((-e[j]), Relu_Prime(Z[pos])))\n",
        "      else:\n",
        "        delta.append(np.multiply(np.dot(delta[i-1], W[pos+1].T), Relu_Prime(Z[pos])))\n",
        "\n",
        "      #calculate dJdW values\n",
        "      if e_abs[j] <= d:\n",
        "        dJdW.append(np.dot(A[pos].T, delta[i]))\n",
        "      else:\n",
        "        dJdW.append(np.multiply((d/e_abs[i]), np.dot(A[pos].T, delta[i])))\n",
        "\n",
        "    D.append(dJdW)\n",
        "  dJdW = Mean(D)\n",
        "  return dJdW\n",
        "\n",
        "def Mean(u):\n",
        "  U = []\n",
        "  if len(u) == 1:\n",
        "    U = u\n",
        "  else:\n",
        "    for b in range(len(u[0])):\n",
        "      comp = np.array([])\n",
        "      for c in range(np.shape(u[0][b])[0]):\n",
        "        temp = np.zeros((len(u), np.shape(u[0][b])[1]))\n",
        "        for a in range(len(u)):\n",
        "          temp[a] = u[a][b][c]\n",
        "        temp = np.sum(temp, axis=0)\n",
        "        for d in range(len(temp)):\n",
        "          temp[d] = temp[d]/len(u)\n",
        "        comp = np.concatenate((comp, temp), axis=0)\n",
        "      comp = np.reshape(comp, np.shape(u[0][b]))\n",
        "      U.append(comp)\n",
        "  return U"
      ],
      "execution_count": null,
      "outputs": []
    },
    {
      "cell_type": "code",
      "metadata": {
        "id": "aDR_hxrOnPTo"
      },
      "source": [
        "#-------EDITABLE VALUES-------#\n",
        "XT = np.array([[0,0,1],\n",
        "              [1,1,1],\n",
        "              [1,0,1],\n",
        "              [0,1,1],\n",
        "              [0,0,0],\n",
        "              [1,1,0],\n",
        "              [1,0,0],\n",
        "              [0,1,0]])\n",
        "\n",
        "YT = np.array([[0,1,1,0,0,1,1,0]]).T\n",
        "\n",
        "nodes_per_layer = [4, 4, 1]\n",
        "\n",
        "lr = 0.01\n",
        "batch_size = 2\n",
        "itterations = 15\n",
        "\n",
        "#-----------------------------#\n",
        "HM = np.array([])\n",
        "n_l = len(nodes_per_layer)\n",
        "W = [0.1 * np.random.randn(X.shape[1], nodes_per_layer[0])]\n",
        "\n",
        "for i in range(n_l-1):\n",
        "  W.append(0.1 * np.random.randn(nodes_per_layer[i], nodes_per_layer[i+1]))\n",
        "for j in range(itterations):\n",
        "  row_i = np.random.choice(XT.shape[0], XT.shape[0], replace=False)\n",
        "  XT = XT[row_i, :]\n",
        "  YT = YT[row_i, :]\n",
        "  HT = np.array([])\n",
        "  for s in range(0, XT.shape[0], batch_size):\n",
        "    X = XT[s:s+batch_size]\n",
        "    Y = YT[s:s+batch_size]\n",
        "\n",
        "    A = [X]\n",
        "    Z = []\n",
        "\n",
        "    for i in range(n_l):\n",
        "      Z.append(np.dot(A[i], W[i]))\n",
        "      A.append(Relu(Z[i]))\n",
        "\n",
        "    yHat = A[n_l]\n",
        "    e = Y - yHat\n",
        "    HT = np.append(HT, e.flatten())\n",
        "\n",
        "    cost = Huber(1)\n",
        "    dJdW = Huber_Prime(1)\n",
        "\n",
        "    for w in range(n_l):\n",
        "      W[(-w-1)] -= lr*dJdW[w]\n",
        "  HM = np.append(HM, [np.mean(HT)])"
      ],
      "execution_count": null,
      "outputs": []
    },
    {
      "cell_type": "code",
      "metadata": {
        "id": "VlQqVBqYYaN_",
        "outputId": "95b86aae-e5ca-4cb2-b3db-7a252104f4ea",
        "colab": {
          "base_uri": "https://localhost:8080/",
          "height": 279
        }
      },
      "source": [
        "plt.plot(HM)\n",
        "plt.xlabel('Itterations')\n",
        "plt.ylabel('Error')\n",
        "plt.show()"
      ],
      "execution_count": null,
      "outputs": [
        {
          "output_type": "display_data",
          "data": {
            "image/png": "[encoded data removed]",
            "text/plain": [
              "<Figure size 432x288 with 1 Axes>"
            ]
          },
          "metadata": {
            "tags": [],
            "needs_background": "light"
          }
        }
      ]
    }
  ]
}